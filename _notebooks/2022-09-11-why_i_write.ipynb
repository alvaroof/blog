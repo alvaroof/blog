{
 "cells": [
  {
   "cell_type": "markdown",
   "metadata": {},
   "source": [
    "# How to configure a laptop's NVIDIA GPU for Deep Learning\n",
    "> Use your own Graphics Card to speed up Tensorflow\n",
    "\n",
    "- toc: true \n",
    "- badges: true\n",
    "- comments: true\n",
    "- categories: [GPU, tensorflow, torch]\n",
    "- hide: false\n",
    "- sticky_rank: 1"
   ]
  },
  {
   "cell_type": "markdown",
   "metadata": {},
   "source": [
    "I've been meaning to start and maintain some sort of blog for some time now, but had never found the will or time to do it.\n",
    "\n",
    "That is, until now. See, when you try to do things out of obligation, or force youself in any other\n",
    "way to do them, most likely you're going to do them reluctantly and avoid them as much as possible. That's being my situation unil recentlyI\n",
    ", always on the lookout for how to start a blog from a technical perspective, like how to setup one, hosting platforms, etc, but never\n",
    "getting to actually write anything. I've always wanted to have a blog because I saw it as something cool, something real Data Scientists have, \n",
    "but having overcome that imposter syndrome by now, and also realizing that I am more than the job I have, \n",
    "I find myself in just the position to start to write about things that interest me, and I mean this in a really broa way.\n",
    "\n",
    "For now, What I have in mind is to take a few courses on several matters I am intered in (like Deep Learning or Physics/Math)\n",
    "and try to portray here what I found interesting on them.\n",
    "\n",
    "My main intention and hope with this blog is just to spend some time writing, and if along the proccess I happen to improve my communication\n",
    "skills, and have a better grasp of whatever I talk about here, so be it.\n",
    "\n",
    "I am not really an smart guy, just an average one who knows how to do ok :). May all this serve as a disclaimer for the poor \n",
    "quality you'll likely find ahead. "
   ]
  },
  {
   "cell_type": "code",
   "execution_count": null,
   "metadata": {},
   "outputs": [],
   "source": []
  }
 ],
 "metadata": {
  "kernelspec": {
   "display_name": "blog-environment",
   "language": "python",
   "name": "blog-environment"
  },
  "language_info": {
   "codemirror_mode": {
    "name": "ipython",
    "version": 3
   },
   "file_extension": ".py",
   "mimetype": "text/x-python",
   "name": "python",
   "nbconvert_exporter": "python",
   "pygments_lexer": "ipython3",
   "version": "3.10.5"
  },
  "varInspector": {
   "cols": {
    "lenName": 16,
    "lenType": 16,
    "lenVar": 40
   },
   "kernels_config": {
    "python": {
     "delete_cmd_postfix": "",
     "delete_cmd_prefix": "del ",
     "library": "var_list.py",
     "varRefreshCmd": "print(var_dic_list())"
    },
    "r": {
     "delete_cmd_postfix": ") ",
     "delete_cmd_prefix": "rm(",
     "library": "var_list.r",
     "varRefreshCmd": "cat(var_dic_list()) "
    }
   },
   "types_to_exclude": [
    "module",
    "function",
    "builtin_function_or_method",
    "instance",
    "_Feature"
   ],
   "window_display": false
  }
 },
 "nbformat": 4,
 "nbformat_minor": 4
}
