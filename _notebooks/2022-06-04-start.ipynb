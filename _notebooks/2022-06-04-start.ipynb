{
 "cells": [
  {
   "cell_type": "markdown",
   "id": "81f501a5",
   "metadata": {},
   "source": [
    "# \"My First Post\"\n",
    "> \"Getting this started\"\n",
    "\n",
    "- toc: false\n",
    "- branch: master\n",
    "- badges: true\n",
    "- comments: true\n",
    "- categories: [fastpages, jupyter]\n",
    "- image: images/test_images/black-and-white-city-houses-skyline.jpg\n",
    "- hide: false\n",
    "- search_exclude: false\n",
    "- metadata_key1: metadata_value1\n",
    "- metadata_key2: metadata_value2\n",
    "- sticky_rank: 1"
   ]
  },
  {
   "cell_type": "markdown",
   "id": "b2bb68be",
   "metadata": {},
   "source": [
    "# Hey there!"
   ]
  },
  {
   "cell_type": "markdown",
   "id": "549fdf95",
   "metadata": {},
   "source": [
    "I am actually blogging, and this is my first message to the world."
   ]
  },
  {
   "cell_type": "code",
   "execution_count": null,
   "id": "a9e8db49",
   "metadata": {},
   "outputs": [],
   "source": []
  }
 ],
 "metadata": {
  "kernelspec": {
   "display_name": "BMCP Book",
   "language": "python",
   "name": "bmcp"
  },
  "language_info": {
   "codemirror_mode": {
    "name": "ipython",
    "version": 3
   },
   "file_extension": ".py",
   "mimetype": "text/x-python",
   "name": "python",
   "nbconvert_exporter": "python",
   "pygments_lexer": "ipython3",
   "version": "3.7.10"
  }
 },
 "nbformat": 4,
 "nbformat_minor": 5
}
