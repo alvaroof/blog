{
 "cells": [
  {
   "cell_type": "markdown",
   "id": "c141d4d6",
   "metadata": {},
   "source": [
    "# \"My First Post\"\n",
    "> \"Getting this started\"\n",
    "\n",
    "- toc: false\n",
    "- branch: master\n",
    "- badges: true\n",
    "- comments: true\n",
    "- categories: [fastpages, jupyter]\n",
    "- image: images/test_images/black-and-white-city-houses-skyline.jpg\n",
    "- hide: false\n",
    "- search_exclude: false\n",
    "- metadata_key1: metadata_value1\n",
    "- metadata_key2: metadata_value2\n",
    "- sticky_rank: 1"
   ]
  },
  {
   "cell_type": "markdown",
   "id": "aab0426a",
   "metadata": {},
   "source": [
    "# Hey there!"
   ]
  },
  {
   "cell_type": "markdown",
   "id": "935edabb",
   "metadata": {},
   "source": [
    "I am actually blogging, and this is my first message to the world."
   ]
  },
  {
   "cell_type": "code",
   "execution_count": 2,
   "id": "e40d3a42",
   "metadata": {},
   "outputs": [],
   "source": [
    "#hide"
   ]
  },
  {
   "cell_type": "code",
   "execution_count": 4,
   "id": "08e756c9",
   "metadata": {},
   "outputs": [
    {
     "name": "stdout",
     "output_type": "stream",
     "text": [
      "Whatever\n"
     ]
    }
   ],
   "source": [
    "#hide_input\n",
    "print('Whatever')"
   ]
  },
  {
   "cell_type": "code",
   "execution_count": 5,
   "id": "0c56cb72",
   "metadata": {},
   "outputs": [],
   "source": [
    "#collapse"
   ]
  },
  {
   "cell_type": "code",
   "execution_count": 6,
   "id": "25c6c156",
   "metadata": {},
   "outputs": [],
   "source": [
    "#collapse_show"
   ]
  },
  {
   "cell_type": "code",
   "execution_count": 7,
   "id": "734cbced",
   "metadata": {},
   "outputs": [],
   "source": [
    "#collapse_output"
   ]
  },
  {
   "cell_type": "markdown",
   "id": "8a6b8a76",
   "metadata": {},
   "source": [
    "> youtube: https://www.youtube.com/watch?v=L0boq3zqazI"
   ]
  },
  {
   "cell_type": "markdown",
   "id": "674fa8de",
   "metadata": {},
   "source": [
    "> twitter: https://twitter.com/some-link"
   ]
  },
  {
   "cell_type": "markdown",
   "id": "13c2d3b0",
   "metadata": {},
   "source": [
    "fastpages builds upon the minima theme. If you want to customize the styling or layout of fastpages, you can find instructions in minima's README. It is a good idea to read the full contents of the README to understand the directory structure. Furthermore, it is a good idea to have a basic understanding of Jekyll before customizing your theme. For those new to Jekyll, the official docs are a good place to start. Concretely, you can override css in fastpages in **_sass/minima/custom-styles.scss**. NOTE that minima's \"skins\" feature is currently incompatible with fastpages' css settings."
   ]
  },
  {
   "cell_type": "code",
   "execution_count": null,
   "id": "5198f6b1",
   "metadata": {},
   "outputs": [],
   "source": []
  }
 ],
 "metadata": {
  "kernelspec": {
   "display_name": "BMCP Book",
   "language": "python",
   "name": "bmcp"
  },
  "language_info": {
   "codemirror_mode": {
    "name": "ipython",
    "version": 3
   },
   "file_extension": ".py",
   "mimetype": "text/x-python",
   "name": "python",
   "nbconvert_exporter": "python",
   "pygments_lexer": "ipython3",
   "version": "3.7.10"
  }
 },
 "nbformat": 4,
 "nbformat_minor": 5
}
